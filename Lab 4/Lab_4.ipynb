{
  "nbformat": 4,
  "nbformat_minor": 0,
  "metadata": {
    "colab": {
      "provenance": []
    },
    "kernelspec": {
      "name": "python3",
      "display_name": "Python 3"
    },
    "language_info": {
      "name": "python"
    }
  },
  "cells": [
    {
      "cell_type": "code",
      "execution_count": 7,
      "metadata": {
        "colab": {
          "base_uri": "https://localhost:8080/"
        },
        "id": "cheWkjfG5yRr",
        "outputId": "75d130cb-c617-4e24-8a01-bbed70a1e981"
      },
      "outputs": [
        {
          "output_type": "stream",
          "name": "stdout",
          "text": [
            "Full Name: Ahmed Osama\n",
            "Money: 640\n",
            "Sleep Mood: happy\n",
            "Health Rate: 75\n"
          ]
        }
      ],
      "source": [
        "class Person :\n",
        "  def __init__(self,fullname,money,sleepmood,healthrate) :\n",
        "   self.fullname = fullname\n",
        "   self.money = money\n",
        "   self.sleepmood = sleepmood\n",
        "   self.healthrate = healthrate\n",
        "\n",
        "  def sleep(self,hours):\n",
        "    if hours == 7 :\n",
        "     self.sleepmood = \"happy\"\n",
        "    elif hours < 7 :\n",
        "     self.sleepmood = \"Tired\"\n",
        "    else :\n",
        "     self.sleepmood = \"Lazy\"\n",
        "\n",
        "  def eat(self,meals) :\n",
        "    if meals == 3 :\n",
        "      self.healthrate = 100\n",
        "    elif meals == 2 :\n",
        "      self.healthrate = 75\n",
        "    elif meals == 1 :\n",
        "      self.healthrate = 50\n",
        "\n",
        "  def buy(self,items) :\n",
        "      self.money -=  items * 10\n",
        "\n",
        "person = Person(\"Ahmed Osama\", 700, \"Tired\",100)\n",
        "person.sleep(7)\n",
        "person.eat(2)\n",
        "person.buy(6)\n",
        "\n",
        "print(\"Full Name:\", person.fullname)\n",
        "print(\"Money:\", person.money)\n",
        "print(\"Sleep Mood:\", person.sleepmood)\n",
        "print(\"Health Rate:\", person.healthrate)"
      ]
    }
  ]
}