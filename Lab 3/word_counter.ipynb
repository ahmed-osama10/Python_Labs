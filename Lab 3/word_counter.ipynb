{
  "nbformat": 4,
  "nbformat_minor": 0,
  "metadata": {
    "colab": {
      "provenance": []
    },
    "kernelspec": {
      "name": "python3",
      "display_name": "Python 3"
    },
    "language_info": {
      "name": "python"
    }
  },
  "cells": [
    {
      "cell_type": "code",
      "source": [
        "import sys\n",
        "import re\n",
        "from collections import Counter\n",
        "\n",
        "def get_most_common_words(text, n=20):\n",
        "    words = re.findall(r'\\w+', text.lower())\n",
        "    word_count = Counter(words)\n",
        "    return word_count.most_common(n)\n",
        "\n",
        "def main():\n",
        "    if len(sys.argv) != 2:\n",
        "        print(\"Usage: python program.py <filename>\")\n",
        "        return\n",
        "\n",
        "    filename = sys.argv[1]\n",
        "\n",
        "    try:\n",
        "        with open(filename, 'r') as file:\n",
        "            text = file.read()\n",
        "            most_common_words = get_most_common_words(text)\n",
        "\n",
        "            with open(\"popular_words.txt\", 'w') as output_file:\n",
        "                for word, count in most_common_words:\n",
        "                    output_file.write(f\"{word}: {count}\\n\")\n",
        "\n",
        "            print(\"Top 20 words written to popular_words.txt\")\n",
        "\n",
        "    except FileNotFoundError:\n",
        "        print(f\"File '{filename}' not found.\")\n",
        "\n",
        "if __name__ == \"__main__\":\n",
        "    main()\n"
      ],
      "metadata": {
        "colab": {
          "base_uri": "https://localhost:8080/"
        },
        "id": "cYV5DhaaVt70",
        "outputId": "f139b116-ba7c-4f72-8312-93b0676a04ae"
      },
      "execution_count": 9,
      "outputs": [
        {
          "output_type": "stream",
          "name": "stdout",
          "text": [
            "Usage: python program.py <filename>\n"
          ]
        }
      ]
    }
  ]
}