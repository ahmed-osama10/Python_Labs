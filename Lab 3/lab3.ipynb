{
  "nbformat": 4,
  "nbformat_minor": 0,
  "metadata": {
    "colab": {
      "provenance": []
    },
    "kernelspec": {
      "name": "python3",
      "display_name": "Python 3"
    },
    "language_info": {
      "name": "python"
    }
  },
  "cells": [
    {
      "cell_type": "code",
      "source": [
        "# Question one :\n",
        "import re\n",
        "from collections import Counter\n",
        "\n",
        "\n",
        "filename = 'mockingjay.txt'\n",
        "with open(filename, 'r') as file:\n",
        "    text = file.read()\n",
        "    words = re.findall(r'\\w+', text.lower())\n",
        "    word_count = Counter(words)\n",
        "    most_common_words = word_count.most_common(20)\n",
        "\n",
        "\n",
        "with open(\"popular_words.txt\", 'w') as output_file:\n",
        "    for word, count in most_common_words:\n",
        "        output_file.write(f\"{word}: {count}\\n\")\n",
        "\n",
        "print(\"Top 20 words written to popular_words.txt\")\n"
      ],
      "metadata": {
        "colab": {
          "base_uri": "https://localhost:8080/"
        },
        "id": "LC_6VBzmXGz2",
        "outputId": "5375066d-ed0c-40cf-eee3-4611007af068"
      },
      "execution_count": 3,
      "outputs": [
        {
          "output_type": "stream",
          "name": "stdout",
          "text": [
            "Top 20 words written to popular_words.txt\n"
          ]
        }
      ]
    },
    {
      "cell_type": "code",
      "source": [
        "# Question two :\n",
        "import math\n",
        "\n",
        "x1, y1 = map(float,input(\"Enter x1 and y1 : \").split())\n",
        "x2, y2 = map(float,input(\"Enter x2 and y2 : \").split())\n",
        "d = math.sqrt((x2-x1)**2 + (y2-y1)**2)\n",
        "print(\"The Distance = \" , d )"
      ],
      "metadata": {
        "colab": {
          "base_uri": "https://localhost:8080/"
        },
        "id": "6FeUEY4PXeAA",
        "outputId": "b51c4a29-d78e-409a-b5be-d38532bacb56"
      },
      "execution_count": 8,
      "outputs": [
        {
          "output_type": "stream",
          "name": "stdout",
          "text": [
            "Enter x1 and y1 : 8 7\n",
            "Enter x2 and y2 : 10 9\n",
            "The Distance =  2.8284271247461903\n"
          ]
        }
      ]
    },
    {
      "cell_type": "code",
      "source": [
        "# Question three :\n",
        "class vehicle :\n",
        "  pass"
      ],
      "metadata": {
        "id": "-oucD8E2bWAw"
      },
      "execution_count": 10,
      "outputs": []
    },
    {
      "cell_type": "code",
      "source": [
        "# Question four :\n",
        "class vehicle :\n",
        "  def __init__(self, max_speed, mileage): # class instance attributes\n",
        "   self.max_speed = max_speed\n",
        "   self.mileage = mileage"
      ],
      "metadata": {
        "id": "0PwHsYzLdZjy"
      },
      "execution_count": 11,
      "outputs": []
    },
    {
      "cell_type": "code",
      "source": [
        "# Question five :\n",
        "string = input(\"Enter your string \")\n",
        "s = string.split()[::-1] # start , stop , step\n",
        "lis = []\n",
        "for i in s:\n",
        "\tlis.append(i)  # add elements to lis list\n",
        "print(\" \".join(lis)) # join elements of list into single string"
      ],
      "metadata": {
        "colab": {
          "base_uri": "https://localhost:8080/"
        },
        "id": "X_x8T9uwfa0h",
        "outputId": "a1cda507-81da-4869-b9f6-fb62900a2dff"
      },
      "execution_count": 20,
      "outputs": [
        {
          "output_type": "stream",
          "name": "stdout",
          "text": [
            "Enter your string Information Technology Institute\n",
            "Institute Technology Information\n"
          ]
        }
      ]
    },
    {
      "cell_type": "code",
      "source": [
        "# Question Six :\n",
        "class String:\n",
        "    def get_String(self):\n",
        "        self.input_string = input(\"Enter a string: \")\n",
        "\n",
        "    def print_String(self):\n",
        "        print(self.input_string.upper())\n",
        "\n",
        "string = String() # instance class\n",
        "string.get_String()\n",
        "string.print_String()"
      ],
      "metadata": {
        "colab": {
          "base_uri": "https://localhost:8080/"
        },
        "id": "Ef62QjL9kwui",
        "outputId": "cd4179f9-a6d9-414d-9dff-5fd917d6cf3f"
      },
      "execution_count": 24,
      "outputs": [
        {
          "output_type": "stream",
          "name": "stdout",
          "text": [
            "Enter a string: Information Technology Institute\n",
            "INFORMATION TECHNOLOGY INSTITUTE\n"
          ]
        }
      ]
    },
    {
      "cell_type": "code",
      "source": [
        "# Question Seven :\n",
        "class Circle :\n",
        " pi = 3.14\n",
        " def __init__(self,radius):\n",
        "  self.radius = radius\n",
        "\n",
        " def area(self):\n",
        "     return Circle.pi * self.radius ** 2\n",
        "\n",
        " def perimeter(self):\n",
        "    return 2 * Circle.pi * self.radius\n",
        "\n",
        "radius = float(input(\"Enter the radius: \"))\n",
        "circle = Circle(radius)\n",
        "print(\"The Area = \",circle.area())\n",
        "print(\"The perimeter =\",circle.perimeter())"
      ],
      "metadata": {
        "colab": {
          "base_uri": "https://localhost:8080/"
        },
        "id": "zbm6JpqrqVJn",
        "outputId": "7811c2e6-f64f-40bc-e9e4-cadb7c937015"
      },
      "execution_count": 31,
      "outputs": [
        {
          "output_type": "stream",
          "name": "stdout",
          "text": [
            "Enter the radius: 5\n",
            "The Area =  78.5\n",
            "The perimeter = 31.400000000000002\n"
          ]
        }
      ]
    }
  ]
}