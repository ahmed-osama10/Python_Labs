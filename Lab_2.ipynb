{
  "nbformat": 4,
  "nbformat_minor": 0,
  "metadata": {
    "colab": {
      "provenance": []
    },
    "kernelspec": {
      "name": "python3",
      "display_name": "Python 3"
    },
    "language_info": {
      "name": "python"
    }
  },
  "cells": [
    {
      "cell_type": "code",
      "execution_count": 1,
      "metadata": {
        "colab": {
          "base_uri": "https://localhost:8080/"
        },
        "id": "Py7mIzfK7djA",
        "outputId": "b9574d41-1a64-420d-ee53-2ed08f556f6b"
      },
      "outputs": [
        {
          "output_type": "execute_result",
          "data": {
            "text/plain": [
              "[1, 2, 3]"
            ]
          },
          "metadata": {},
          "execution_count": 1
        }
      ],
      "source": [
        "# Question one :\n",
        "my_list = []\n",
        "def adj(my_list):\n",
        "  return list(map(int,my_list))\n",
        "\n",
        "adj([ 1 , 2 , 3.3 ])"
      ]
    },
    {
      "cell_type": "code",
      "source": [
        "# Question two :\n",
        "String = input(\" Enter A String : \")\n",
        "the_front_half = String[:len(String)//2]\n",
        "the_back_half = String[len(String)//2:]\n",
        "\n",
        "if len(String)%2 == 0 :\n",
        "   print(\" The length is even, the front and back halves are the same length. \" )\n",
        "else :\n",
        "  print (\" The length is odd, the extra char goes in the front half.\")\n",
        "\n",
        "print(\"the_front_half : \" + the_front_half)\n",
        "print(\"the_back_half :\" + the_back_half)\n",
        "\n",
        "the_front_front_half = the_front_half[:len(the_front_half)//2]\n",
        "the_front_back_half = the_front_half[len(the_front_half)//2:]\n",
        "the_back_front_half = the_back_half[:len(the_back_half)//2]\n",
        "the_back_back_half = the_back_half[len(the_back_half)//2:]\n",
        "\n",
        "print (the_front_front_half + the_back_front_half )\n",
        "print(the_front_back_half + the_back_back_half )\n",
        "\n"
      ],
      "metadata": {
        "colab": {
          "base_uri": "https://localhost:8080/"
        },
        "id": "t0TuRHFbAd5M",
        "outputId": "03ea551c-bb5b-4001-ed5a-bbb51c018f2e"
      },
      "execution_count": 2,
      "outputs": [
        {
          "output_type": "stream",
          "name": "stdout",
          "text": [
            " Enter A String : abced\n",
            " The length is odd, the extra char goes in the front half.\n",
            "the_front_half : ab\n",
            "the_back_half :ced\n",
            "ac\n",
            "bed\n"
          ]
        }
      ]
    },
    {
      "cell_type": "code",
      "source": [
        "# Question three :\n",
        "def seq(*values):\n",
        "    my_set = set (values)\n",
        "    return len(my_set) == len(values)\n",
        "\n",
        "print(seq(1,5,7,9))\n",
        "print(seq(2,4,5,5,7,9))"
      ],
      "metadata": {
        "colab": {
          "base_uri": "https://localhost:8080/"
        },
        "id": "0LlvFqhjHar6",
        "outputId": "1a448f9c-74e7-4ac9-ccb9-b20f4eb2ca5d"
      },
      "execution_count": 3,
      "outputs": [
        {
          "output_type": "stream",
          "name": "stdout",
          "text": [
            "True\n",
            "False\n"
          ]
        }
      ]
    },
    {
      "cell_type": "code",
      "source": [
        "# Question four :\n",
        "def bubblesort(elements):\n",
        "\tswapped = False\n",
        "\tfor n in range(len(elements)-1, 0, -1):\n",
        "\t\tfor i in range(n):\n",
        "\t\t\tif elements[i] > elements[i + 1]:\n",
        "\t\t\t\tswapped = True\n",
        "\t\t\t\telements[i], elements[i + 1] = elements[i + 1], elements[i]\n",
        "\t\tif not swapped:\n",
        "\t\t\treturn\n",
        "elements = [10, 50, 80, 5, 30, 40, 90, 20]\n",
        "print(\"Unsorted list is,\")\n",
        "print(elements)\n",
        "bubblesort(elements)\n",
        "print(\"Sorted Array is, \")\n",
        "print(elements)"
      ],
      "metadata": {
        "colab": {
          "base_uri": "https://localhost:8080/"
        },
        "id": "qQalCf5CQxa2",
        "outputId": "4a26f346-18fb-40ac-ce37-dac12a959bd5"
      },
      "execution_count": 4,
      "outputs": [
        {
          "output_type": "stream",
          "name": "stdout",
          "text": [
            "Unsorted list is,\n",
            "[10, 50, 80, 5, 30, 40, 90, 20]\n",
            "Sorted Array is, \n",
            "[5, 10, 20, 30, 40, 50, 80, 90]\n"
          ]
        }
      ]
    },
    {
      "cell_type": "code",
      "source": [
        "# Question five :\n",
        "import random\n",
        "n = random.randint(1, 100)\n",
        "print(n)\n",
        "for _ in range(10):\n",
        "    user_number = int(input(\"Enter your guess number: \"))\n",
        "\n",
        "    if user_number == n:\n",
        "        print(f\"Congratulations! You guessed the number {n}.\")\n",
        "        play_again = input(\"Do you want to play again? (yes/no): \").lower()\n",
        "        if play_again != \"yes\":\n",
        "            print(\"Thanks for playing!\")\n",
        "            break\n",
        "    elif user_number > n:\n",
        "        print(\"Your guess is high.\")\n",
        "    else:\n",
        "        print(\"Your guess is low.\")\n",
        "\n",
        "    if user_number > 100:\n",
        "        print(\"This is not allowed.\")\n"
      ],
      "metadata": {
        "id": "mCumB8ikRKXk",
        "colab": {
          "base_uri": "https://localhost:8080/"
        },
        "outputId": "939f01c3-6a25-4348-8595-3584b82c5a7d"
      },
      "execution_count": 5,
      "outputs": [
        {
          "output_type": "stream",
          "name": "stdout",
          "text": [
            "77\n",
            "Enter your guess number: 50\n",
            "Your guess is low.\n",
            "Enter your guess number: 60\n",
            "Your guess is low.\n",
            "Enter your guess number: 70\n",
            "Your guess is low.\n",
            "Enter your guess number: 75\n",
            "Your guess is low.\n",
            "Enter your guess number: 80\n",
            "Your guess is high.\n",
            "Enter your guess number: 77\n",
            "Congratulations! You guessed the number 77.\n",
            "Do you want to play again? (yes/no): no\n",
            "Thanks for playing!\n"
          ]
        }
      ]
    },
    {
      "cell_type": "code",
      "source": [
        "# Question six :\n",
        "def Difference(array):\n",
        "    n = len(array)\n",
        "    The_left_to_right_diagonal = 0\n",
        "    The_right_to_left_diagonal = 0\n",
        "    for i in range(n):\n",
        "        The_left_to_right_diagonal += array[i][i]\n",
        "        The_right_to_left_diagonal += array[i][n - i - 1]\n",
        "    return abs(The_left_to_right_diagonal - The_right_to_left_diagonal)\n",
        "n = int(input())\n",
        "array = []\n",
        "for _ in range(n):\n",
        "    row = list(map(int, input().split()))\n",
        "    array.append(row)\n",
        "Absolute_difference = Difference(array)\n",
        "print(Absolute_difference)"
      ],
      "metadata": {
        "id": "HSvg-lgmOdGL",
        "colab": {
          "base_uri": "https://localhost:8080/"
        },
        "outputId": "d1168470-e5d5-44ef-81dd-4903deb1c822"
      },
      "execution_count": 6,
      "outputs": [
        {
          "output_type": "stream",
          "name": "stdout",
          "text": [
            "3\n",
            " 11 2 4 \n",
            "4 5 6 \n",
            "10 8 -12\n",
            "15\n"
          ]
        }
      ]
    }
  ]
}