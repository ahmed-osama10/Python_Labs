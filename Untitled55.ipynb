{
  "nbformat": 4,
  "nbformat_minor": 0,
  "metadata": {
    "colab": {
      "provenance": []
    },
    "kernelspec": {
      "name": "python3",
      "display_name": "Python 3"
    },
    "language_info": {
      "name": "python"
    }
  },
  "cells": [
    {
      "cell_type": "code",
      "execution_count": 119,
      "metadata": {
        "id": "IKuoZzchZoEm"
      },
      "outputs": [],
      "source": [
        "import pandas as pd\n",
        "\n",
        "# Replace 'your_file.xlsx' with the actual filename\n",
        "file_name = 'task.xlsx'\n",
        "\n",
        "# Read all sheets into a dictionary of DataFrames\n",
        "sheets_dict = pd.read_excel(file_name, sheet_name=None)\n"
      ]
    },
    {
      "cell_type": "code",
      "source": [
        "print(list(sheets_dict.keys()))"
      ],
      "metadata": {
        "colab": {
          "base_uri": "https://localhost:8080/"
        },
        "id": "iW5GnHXLab8p",
        "outputId": "0c92d4a7-985e-477d-e9f7-cda6a964408b"
      },
      "execution_count": 120,
      "outputs": [
        {
          "output_type": "stream",
          "name": "stdout",
          "text": [
            "['Q1', 'Q2', 'Q3', 'Q4', 'Q5', 'Q6', 'Q7', 'Q8']\n"
          ]
        }
      ]
    },
    {
      "cell_type": "code",
      "source": [
        "q1_data = sheets_dict['Q1']\n"
      ],
      "metadata": {
        "id": "fwbXblZ9a78m"
      },
      "execution_count": 121,
      "outputs": []
    },
    {
      "cell_type": "code",
      "source": [
        "# List of specific names\n",
        "specific_names = [\n",
        "    \"Fatma Samir Abbas Abd El-whab\",\n",
        "    \"Rania Mohamed Hany Al-Maradni\",\n",
        "    \"Hassan Mustafa Hassan ElSayed\",\n",
        "    \"Heba Kassem\",\n",
        "    \"Ahmed Abou Elhassan\",\n",
        "    \"Mohamed Elkazak\",\n",
        "    \"Radwa shaheen said\",\n",
        "    \"Ramy Mahmoud Mohamed Fawzy\",\n",
        "    \"Amr Gonim\",\n",
        "    \"Fatma Ali Mamdouh\",\n",
        "    \"Mohammed Sheta\",\n",
        "    \"Mahmoud Abdel Aal\",\n",
        "    \"Ahmed Sorour\"\n",
        "]\n",
        "\n",
        "# Create an empty DataFrame with columns 'Name', 'Dep', and 'BU'\n",
        "result = pd.DataFrame(columns=['Name.', 'Dep', 'BU'])\n",
        "\n",
        "# Populate the result DataFrame with specific names and their corresponding 'Dep' and 'BU' values\n",
        "for name in specific_names:\n",
        "    name_data = q1_data[q1_data['Name.'] == name][['Dep', 'BU']].drop_duplicates()\n",
        "    name_data.insert(0, 'Name.', name)\n",
        "    result = pd.concat([result, name_data], ignore_index=True)\n",
        "\n",
        "# Print the result DataFrame\n",
        "print(result)\n"
      ],
      "metadata": {
        "colab": {
          "base_uri": "https://localhost:8080/"
        },
        "id": "LblRx6YVcd20",
        "outputId": "522fc811-f6e0-404f-e997-1db646a8d8cc"
      },
      "execution_count": 122,
      "outputs": [
        {
          "output_type": "stream",
          "name": "stdout",
          "text": [
            "                            Name.                Dep                BU\n",
            "0   Fatma Samir Abbas Abd El-whab                 HR   Andalusia Egypt\n",
            "1   Rania Mohamed Hany Al-Maradni  Sales & Marketing   Andalusia - HJH\n",
            "2   Hassan Mustafa Hassan ElSayed                 HR   Andalusia-Egypt\n",
            "3                     Heba Kassem  Sales & Marketing            Remote\n",
            "4             Ahmed Abou Elhassan       Supply Chain   Andalusia Egypt\n",
            "5                 Mohamed Elkazak  Sales & Marketing            Remote\n",
            "6                 Mohamed Elkazak            Medical              Alex\n",
            "7              Radwa shaheen said           medical                FWZ\n",
            "8      Ramy Mahmoud Mohamed Fawzy                 HR            Remote\n",
            "9                       Amr Gonim            Medical               HJH\n",
            "10              Fatma Ali Mamdouh           medical                AHQ\n",
            "11                 Mohammed Sheta                 HR  Andalusia –Egypt\n",
            "12              Mahmoud Abdel Aal                 IT              AHBS\n",
            "13                   Ahmed Sorour  Sales & Marketing            Remote\n"
          ]
        }
      ]
    },
    {
      "cell_type": "code",
      "source": [
        "q2_data = sheets_dict['Q2']\n"
      ],
      "metadata": {
        "id": "Bdb0xQMpdjJx"
      },
      "execution_count": 123,
      "outputs": []
    },
    {
      "cell_type": "code",
      "source": [
        "# Assuming you have already loaded the 'Q2' data into the q2_data DataFrame\n",
        "import pandas as pd\n",
        "\n",
        "# List of specific recruiter names\n",
        "specific_recruiters = [\n",
        "    \"Merna\", \"Batoul\", \"Ali\", \"Dina\", \"Menna\",\n",
        "    \"Demiana\", \"Youmna\", \"Nada\", \"Shaimaa\",\n",
        "    \"Mohamed Monier\", \"Amany\", \"mohamed El Said\",\n",
        "    \"Abeer\", \"Doaa Ezz\", \"Dina Tarek\", \"Mariam\", \"Ezz\"\n",
        "]\n",
        "\n",
        "# Filter the 'Q2' data to include only the specified recruiters\n",
        "filtered_q2_data = q2_data[q2_data['Recruiter Name'].isin(specific_recruiters)]\n",
        "\n",
        "# Count offers for each recruiter\n",
        "offers_count = filtered_q2_data['Recruiter Name'].value_counts()\n",
        "\n",
        "# Create a DataFrame for the results with appropriate column titles\n",
        "results_df = pd.DataFrame({'Recruiter Name': offers_count.index, 'Count Of Offers': offers_count.values})\n",
        "\n",
        "# Print the results DataFrame\n",
        "print(results_df)\n"
      ],
      "metadata": {
        "colab": {
          "base_uri": "https://localhost:8080/"
        },
        "id": "jjRamizOd7OJ",
        "outputId": "bd387783-3558-475a-d4e5-9fe3eab69f47"
      },
      "execution_count": 124,
      "outputs": [
        {
          "output_type": "stream",
          "name": "stdout",
          "text": [
            "     Recruiter Name  Count Of Offers\n",
            "0               Ali                5\n",
            "1           Shaimaa                4\n",
            "2             Abeer                3\n",
            "3             Amany                3\n",
            "4            Batoul                3\n",
            "5             Menna                3\n",
            "6    Mohamed Monier                3\n",
            "7              Nada                3\n",
            "8             Merna                2\n",
            "9              Dina                2\n",
            "10       Dina Tarek                2\n",
            "11          Demiana                1\n",
            "12         Doaa Ezz                1\n",
            "13              Ezz                1\n",
            "14  mohamed El Said                1\n",
            "15           Youmna                1\n"
          ]
        }
      ]
    },
    {
      "cell_type": "code",
      "source": [
        "q3_data = sheets_dict['Q3']\n"
      ],
      "metadata": {
        "id": "l1sHFPS5eBtd"
      },
      "execution_count": 125,
      "outputs": []
    },
    {
      "cell_type": "code",
      "source": [
        "# Assuming you have already loaded the 'Q3' data into the q3_data DataFrame\n",
        "import pandas as pd\n",
        "\n",
        "# Multiply 'Over All Performance' values by 100 to convert to percentages\n",
        "q3_data['Over All Performance'] *= 100\n",
        "\n",
        "# Filter the 'Q3' data to include only rows where \"Overall Performance\" is less than 50%\n",
        "filtered_q3_data = q3_data[q3_data['Over All Performance'] < 50]\n",
        "\n",
        "# Print the filtered data\n",
        "print(filtered_q3_data)\n"
      ],
      "metadata": {
        "colab": {
          "base_uri": "https://localhost:8080/"
        },
        "id": "6QGIgM3dhl2v",
        "outputId": "3f6ed78d-d09b-4c6f-cb0d-9970f722baba"
      },
      "execution_count": 126,
      "outputs": [
        {
          "output_type": "stream",
          "name": "stdout",
          "text": [
            "    Recruiter Name  Over All Performance\n",
            "0             Dina             14.806111\n",
            "1             Amal             15.000000\n",
            "2             Nada             19.201748\n",
            "3            Merna             28.496780\n",
            "4       Dina Tarek             42.715367\n",
            "5           Youmna             47.201748\n",
            "6         Elbatoul             47.433443\n",
            "7          Demiana             47.655917\n",
            "15  Mohamed Monier             15.000000\n"
          ]
        }
      ]
    },
    {
      "cell_type": "code",
      "source": [
        "q4_data = sheets_dict['Q4']"
      ],
      "metadata": {
        "id": "03WbejQahpNt"
      },
      "execution_count": 127,
      "outputs": []
    },
    {
      "cell_type": "code",
      "source": [
        "# Assuming you have already loaded the 'Q4' data into the q4_data DataFrame\n",
        "import pandas as pd\n",
        "\n",
        "# Multiply 'Over All Performance' values by 100 to convert to percentages\n",
        "q4_data['Over All Performance'] *= 100\n",
        "\n",
        "# Calculate ranks based on 'Over All Performance'\n",
        "q4_data['RANK'] = q4_data['Over All Performance'].rank(ascending=False)\n",
        "\n",
        "# Print the data with RANK\n",
        "print(q4_data[['Performance Per Recruiter', 'Over All Performance', 'RANK']])\n"
      ],
      "metadata": {
        "colab": {
          "base_uri": "https://localhost:8080/"
        },
        "id": "Oj5CU_DChuvA",
        "outputId": "1a664672-b816-4fbd-c2ba-bd441bcb9d44"
      },
      "execution_count": 128,
      "outputs": [
        {
          "output_type": "stream",
          "name": "stdout",
          "text": [
            "   Performance Per Recruiter  Over All Performance  RANK\n",
            "0                     Youmna                  20.0  20.0\n",
            "1                    Shaimaa                  50.0  10.5\n",
            "2                      Samar                  99.0   1.0\n",
            "3                       Nada                  60.0   6.0\n",
            "4             Mohamed Monier                  49.0  12.5\n",
            "5            Mohamed El Said                  70.0   5.0\n",
            "6                      Merna                  22.0  19.0\n",
            "7                      Menna                  29.0  17.0\n",
            "8                     Mariam                  30.0  16.0\n",
            "9                        Ezz                  50.0  10.5\n",
            "10                  Elbatoul                  55.0   9.0\n",
            "11                      Doaa                  59.0   7.0\n",
            "12                Dina Tarek                  43.0  15.0\n",
            "13                      Dina                  49.0  12.5\n",
            "14                   Demiana                  58.0   8.0\n",
            "15                       Aya                  28.0  18.0\n",
            "16                     Amany                  86.0   3.0\n",
            "17                      Amal                  95.0   2.0\n",
            "18                       Ali                  47.0  14.0\n",
            "19                     Abeer                  74.0   4.0\n"
          ]
        }
      ]
    },
    {
      "cell_type": "code",
      "source": [
        "q5_data = sheets_dict['Q5']\n"
      ],
      "metadata": {
        "id": "iorcoW4PjghP"
      },
      "execution_count": 129,
      "outputs": []
    },
    {
      "cell_type": "code",
      "source": [
        "# Assuming you have already loaded the 'Q5' data into the q5_data DataFrame\n",
        "import pandas as pd\n",
        "\n",
        "# Create a pivot table to count recruiters in each BU with Task Owner in values\n",
        "pivot_table = q5_data.pivot_table(index='BU', columns='Task owner', aggfunc='size', fill_value=0)\n",
        "\n",
        "# Print the pivot table as a DataFrame\n",
        "pivot_df = pd.DataFrame(pivot_table)\n",
        "\n",
        "# Print the DataFrame\n",
        "print(pivot_df)\n"
      ],
      "metadata": {
        "colab": {
          "base_uri": "https://localhost:8080/"
        },
        "id": "guoZhTBml9L8",
        "outputId": "925ac5c5-2b90-4701-d360-ac810d3bb1d6"
      },
      "execution_count": 130,
      "outputs": [
        {
          "output_type": "stream",
          "name": "stdout",
          "text": [
            "Task owner  A. Dowair  Abeer  Ahmed Bahaa  Ali  Amal  Amany  Amany Mamdouh  \\\n",
            "BU                                                                           \n",
            "AMH                 1      1            1    1     1      0              0   \n",
            "ASH                 0      0            0    0     0      1              1   \n",
            "Careers             0      0            0    0     0      0              0   \n",
            "KSA-Remote          0      0            0    0     0      0              0   \n",
            "SMH                 0      0            0    0     0      0              0   \n",
            "\n",
            "Task owner  Amr  Aya  Basma  ...  Samar  Shaimaa  Shrouk  Yasmin  Youmna  \\\n",
            "BU                           ...                                           \n",
            "AMH           0    0      0  ...      0        0       0       0       0   \n",
            "ASH           1    1      1  ...      0        0       0       0       0   \n",
            "Careers       0    0      0  ...      0        0       0       0       0   \n",
            "KSA-Remote    0    0      0  ...      1        1       0       0       0   \n",
            "SMH           0    0      0  ...      0        0       1       1       1   \n",
            "\n",
            "Task owner  Youssef  Zina  kohyea  nesreen  randa  \n",
            "BU                                                 \n",
            "AMH               0     0       0        0      0  \n",
            "ASH               0     0       0        0      0  \n",
            "Careers           0     0       1        0      0  \n",
            "KSA-Remote        0     0       0        1      1  \n",
            "SMH               1     1       0        0      0  \n",
            "\n",
            "[5 rows x 48 columns]\n"
          ]
        }
      ]
    },
    {
      "cell_type": "code",
      "source": [
        "# Assuming you have already loaded the 'Q5' data into the q5_data DataFrame\n",
        "import pandas as pd\n",
        "\n",
        "# Group the data by 'BU' and count the number of recruiters in each group\n",
        "recruiters_count = q5_data.groupby('BU').size().reset_index(name='Number of Recruiters')\n",
        "\n",
        "# Print the result\n",
        "print(recruiters_count)\n"
      ],
      "metadata": {
        "colab": {
          "base_uri": "https://localhost:8080/"
        },
        "id": "dQdPfOsCmYXn",
        "outputId": "9e66fb8e-4cc6-498d-c68a-6e2bd2ceca8e"
      },
      "execution_count": 131,
      "outputs": [
        {
          "output_type": "stream",
          "name": "stdout",
          "text": [
            "           BU  Number of Recruiters\n",
            "0         AMH                     5\n",
            "1         ASH                     9\n",
            "2     Careers                    20\n",
            "3  KSA-Remote                     9\n",
            "4         SMH                     5\n"
          ]
        }
      ]
    },
    {
      "cell_type": "code",
      "source": [
        "q6_data = sheets_dict['Q6']\n"
      ],
      "metadata": {
        "id": "vZaZ5g4PmbEa"
      },
      "execution_count": 132,
      "outputs": []
    },
    {
      "cell_type": "code",
      "source": [
        "# Assuming you have already loaded the 'Q6' data into the q6_data DataFrame\n",
        "import pandas as pd\n",
        "\n",
        "# Print the column names of the Q6 DataFrame\n",
        "column_names = q6_data.columns\n",
        "print(column_names)\n"
      ],
      "metadata": {
        "colab": {
          "base_uri": "https://localhost:8080/"
        },
        "id": "Gk72Tznon7CI",
        "outputId": "f0d4182a-f1c7-4511-adcd-db0cfbb2411f"
      },
      "execution_count": 133,
      "outputs": [
        {
          "output_type": "stream",
          "name": "stdout",
          "text": [
            "Index(['BU/Month', ' Target Offer', ' Actual Offers', ' Target Hire',\n",
            "       ' Actual Hires'],\n",
            "      dtype='object')\n"
          ]
        }
      ]
    },
    {
      "cell_type": "code",
      "source": [
        "''' # Assuming you have already loaded the 'Q6' data into the q6_data DataFrame\n",
        "import pandas as pd\n",
        "\n",
        "# Calculate offers achievement and hires achievement\n",
        "q6_data['Offers Achievement'] = (q6_data[' Actual Offers'] / q6_data[' Target Offer']) * 100\n",
        "q6_data['Hires Achievement'] = (q6_data[' Actual Hires'] / q6_data[' Target Hire']) * 100\n",
        "\n",
        "# Set 'BU/Month' as the index\n",
        "q6_data.set_index('BU/Month', inplace=True)\n",
        "\n",
        "# Print the result with selected columns\n",
        "result = q6_data[['Offers Achievement', 'Hires Achievement']]\n",
        "print(result) '''\n"
      ],
      "metadata": {
        "colab": {
          "base_uri": "https://localhost:8080/",
          "height": 87
        },
        "id": "KODxog4Cmi_E",
        "outputId": "d2559020-a089-481b-b0fe-1a8f08d0c971"
      },
      "execution_count": 134,
      "outputs": [
        {
          "output_type": "execute_result",
          "data": {
            "text/plain": [
              "\" # Assuming you have already loaded the 'Q6' data into the q6_data DataFrame\\nimport pandas as pd\\n\\n# Calculate offers achievement and hires achievement\\nq6_data['Offers Achievement'] = (q6_data[' Actual Offers'] / q6_data[' Target Offer']) * 100\\nq6_data['Hires Achievement'] = (q6_data[' Actual Hires'] / q6_data[' Target Hire']) * 100\\n\\n# Set 'BU/Month' as the index\\nq6_data.set_index('BU/Month', inplace=True)\\n\\n# Print the result with selected columns\\nresult = q6_data[['Offers Achievement', 'Hires Achievement']]\\nprint(result) \""
            ],
            "application/vnd.google.colaboratory.intrinsic+json": {
              "type": "string"
            }
          },
          "metadata": {},
          "execution_count": 134
        }
      ]
    },
    {
      "cell_type": "code",
      "source": [
        "# Assuming you have already loaded the 'Q6' data into the q6_data DataFrame\n",
        "import pandas as pd\n",
        "import matplotlib.pyplot as plt\n",
        "import seaborn as sns\n",
        "\n",
        "# Calculate offers achievement and hires achievement\n",
        "q6_data['Offers Achievement'] = (q6_data[' Actual Offers'] / q6_data[' Target Offer']) * 100\n",
        "q6_data['Hires Achievement'] = (q6_data[' Actual Hires'] / q6_data[' Target Hire']) * 100\n",
        "\n",
        "# Set 'BU/Month' as the index\n",
        "q6_data.set_index('BU/Month', inplace=True)\n",
        "\n",
        "# Create a bar plot for offers achievement\n",
        "plt.figure(figsize=(10, 6))\n",
        "sns.barplot(data=q6_data, x=q6_data.index, y='Offers Achievement')\n",
        "plt.title('Offers Achievement by BU/Month')\n",
        "plt.xlabel('BU/Month')\n",
        "plt.ylabel('Offers Achievement (%)')\n",
        "plt.xticks(rotation=45)\n",
        "plt.tight_layout()\n",
        "\n",
        "# Show the plot\n",
        "plt.show()\n",
        "\n",
        "# Create a bar plot for hires achievement\n",
        "plt.figure(figsize=(10, 6))\n",
        "sns.barplot(data=q6_data, x=q6_data.index, y='Hires Achievement')\n",
        "plt.title('Hires Achievement by BU/Month')\n",
        "plt.xlabel('BU/Month')\n",
        "plt.ylabel('Hires Achievement (%)')\n",
        "plt.xticks(rotation=45)\n",
        "plt.tight_layout()\n",
        "\n",
        "# Show the plot\n",
        "plt.show()\n"
      ],
      "metadata": {
        "colab": {
          "base_uri": "https://localhost:8080/",
          "height": 1000
        },
        "id": "lBRwwYSxoco5",
        "outputId": "b74004ed-3d16-4cae-e716-6e388c68148c"
      },
      "execution_count": 135,
      "outputs": [
        {
          "output_type": "display_data",
          "data": {
            "text/plain": [
              "<Figure size 1000x600 with 1 Axes>"
            ],
            "image/png": "[encoded data removed]"
          },
          "metadata": {}
        },
        {
          "output_type": "display_data",
          "data": {
            "text/plain": [
              "<Figure size 1000x600 with 1 Axes>"
            ],
            "image/png": "[encoded data removed]"
          },
          "metadata": {}
        }
      ]
    },
    {
      "cell_type": "code",
      "source": [
        "q7_data = sheets_dict['Q7']"
      ],
      "metadata": {
        "id": "YpCWLag0rDgV"
      },
      "execution_count": 136,
      "outputs": []
    },
    {
      "cell_type": "code",
      "source": [
        "# Assuming you have already loaded the 'Q7' data into the q7_data DataFrame\n",
        "import pandas as pd\n",
        "\n",
        "# Create a dictionary to map levels to their respective offer and hire due dates\n",
        "level_dates = {\n",
        "    'Senior': {'Offer Due Dates': 15, 'Hires Due Dates': 15},\n",
        "    'Entry': {'Offer Due Dates': 15, 'Hires Due Dates': 15},\n",
        "    'Section Head': {'Offer Due Dates': 21, 'Hires Due Dates': 24},\n",
        "    'Supervisor': {'Offer Due Dates': 21, 'Hires Due Dates': 24},\n",
        "    'Manager': {'Offer Due Dates': 30, 'Hires Due Dates': 30},\n",
        "    'Medical Specialist': {'Offer Due Dates': 30, 'Hires Due Dates': 30},\n",
        "    'Director': {'Offer Due Dates': 30, 'Hires Due Dates': 45},\n",
        "    'Consultant': {'Offer Due Dates': 30, 'Hires Due Dates': 45}\n",
        "}\n",
        "\n",
        "# Calculate expected offer and hire dates based on the start date and level\n",
        "q7_data['Expected Offer Date'] = q7_data.apply(lambda row: row['Start Date'] + pd.Timedelta(days=level_dates[row['Level']]['Offer Due Dates']), axis=1)\n",
        "q7_data['Expected Hire Date'] = q7_data.apply(lambda row: row['Start Date'] + pd.Timedelta(days=level_dates[row['Level']]['Hires Due Dates']), axis=1)\n",
        "\n",
        "# Delete the last two rows\n",
        "q7_data = q7_data.iloc[:-2]\n",
        "\n",
        "# Print the result with the specified columns\n",
        "result = q7_data[['Position', 'Level', 'Start Date', 'Expected Offer Date', 'Expected Hire Date']]\n",
        "print(result)\n"
      ],
      "metadata": {
        "colab": {
          "base_uri": "https://localhost:8080/"
        },
        "id": "Ug2_vQAksTTN",
        "outputId": "f9c428ff-1df0-438c-b441-c1982e1109db"
      },
      "execution_count": 137,
      "outputs": [
        {
          "output_type": "stream",
          "name": "stdout",
          "text": [
            "                 Position               Level Start Date Expected Offer Date  \\\n",
            "0  Orthopedic Consultant               Senior 2020-01-01          2020-01-16   \n",
            "1     Fixed Prosthodontic               Entry 2020-01-01          2020-01-16   \n",
            "2        Admin Specialist        Section Head 2020-01-01          2020-01-22   \n",
            "3      Payroll Supervisor          Supervisor 2020-01-01          2020-01-22   \n",
            "4              HR Manager             Manager 2020-01-01          2020-01-31   \n",
            "5        Medical Director  Medical Specialist 2020-01-01          2020-01-31   \n",
            "\n",
            "  Expected Hire Date  \n",
            "0         2020-01-16  \n",
            "1         2020-01-16  \n",
            "2         2020-01-25  \n",
            "3         2020-01-25  \n",
            "4         2020-01-31  \n",
            "5         2020-01-31  \n"
          ]
        }
      ]
    },
    {
      "cell_type": "code",
      "source": [
        "q8_data = sheets_dict['Q8']"
      ],
      "metadata": {
        "id": "1t8BAdifpwXs"
      },
      "execution_count": 138,
      "outputs": []
    },
    {
      "cell_type": "code",
      "source": [
        "# Assuming you have already loaded the 'Q8' data into the q8_data DataFrame\n",
        "import pandas as pd\n",
        "\n",
        "# Define a function to classify revenue into levels\n",
        "def classify_revenue(revenue):\n",
        "    if revenue < 1000:\n",
        "        return 'Below 1000'\n",
        "    elif revenue >= 1000 and revenue < 2000:\n",
        "        return 'Between 1000 & 2000'\n",
        "    else:\n",
        "        return 'Equal or Over 2000'\n",
        "\n",
        "# Apply the classification function to the 'Revenue' column and create a new 'Classification' column\n",
        "q8_data['Classification'] = q8_data['Revenue'].apply(classify_revenue)\n",
        "\n",
        "# Print the result\n",
        "print(q8_data)\n"
      ],
      "metadata": {
        "colab": {
          "base_uri": "https://localhost:8080/"
        },
        "id": "KhWt_3SKq5pt",
        "outputId": "81e91f81-781d-4ba4-b67c-a2030907af4c"
      },
      "execution_count": 139,
      "outputs": [
        {
          "output_type": "stream",
          "name": "stdout",
          "text": [
            "                 Position       Level  Revenue       Classification\n",
            "0  Orthopedic Consultant   Consultant     2001   Equal or Over 2000\n",
            "1     Fixed Prosthodontic  Specialist     1589  Between 1000 & 2000\n",
            "2        Admin Specialist       Entry     2456   Equal or Over 2000\n",
            "3      Payroll Supervisor  Supervisor      900           Below 1000\n",
            "4              HR Manager     Manager     3255   Equal or Over 2000\n",
            "5        Medical Director    Director    43831   Equal or Over 2000\n"
          ]
        }
      ]
    }
  ]
}